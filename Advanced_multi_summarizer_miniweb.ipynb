{
  "nbformat": 4,
  "nbformat_minor": 0,
  "metadata": {
    "colab": {
      "provenance": []
    },
    "kernelspec": {
      "name": "python3",
      "display_name": "Python 3"
    },
    "language_info": {
      "name": "python"
    }
  },
  "cells": [
    {
      "cell_type": "code",
      "execution_count": null,
      "metadata": {
        "id": "FAOvzss-Vey8"
      },
      "outputs": [],
      "source": []
    },
    {
      "cell_type": "code",
      "execution_count": 8,
      "metadata": {
        "colab": {
          "base_uri": "https://localhost:8080/",
          "height": 646
        },
        "id": "B8i_Iq3AqFPB",
        "outputId": "65b98a35-7a5c-4b7e-846a-bad03c333f53"
      },
      "outputs": [
        {
          "output_type": "stream",
          "name": "stdout",
          "text": [
            "It looks like you are running Gradio on a hosted Jupyter notebook, which requires `share=True`. Automatically setting `share=True` (you can turn this off by setting `share=False` in `launch()` explicitly).\n",
            "\n",
            "Colab notebook detected. To show errors in colab notebook, set debug=True in launch()\n",
            "* Running on public URL: https://f431533cb83e50a956.gradio.live\n",
            "\n",
            "This share link expires in 1 week. For free permanent hosting and GPU upgrades, run `gradio deploy` from the terminal in the working directory to deploy to Hugging Face Spaces (https://huggingface.co/spaces)\n"
          ]
        },
        {
          "output_type": "display_data",
          "data": {
            "text/plain": [
              "<IPython.core.display.HTML object>"
            ],
            "text/html": [
              "<div><iframe src=\"https://f431533cb83e50a956.gradio.live\" width=\"100%\" height=\"500\" allow=\"autoplay; camera; microphone; clipboard-read; clipboard-write;\" frameborder=\"0\" allowfullscreen></iframe></div>"
            ]
          },
          "metadata": {}
        },
        {
          "output_type": "execute_result",
          "data": {
            "text/plain": []
          },
          "metadata": {},
          "execution_count": 8
        }
      ],
      "source": [
        "#IMPORTS\n",
        "import requests\n",
        "import json\n",
        "from google.colab import userdata\n",
        "import pandas as pd\n",
        "from IPython.display import display,HTML\n",
        "import gradio as gr\n",
        "#DATAFRAME\n",
        "multi_prompt=pd.DataFrame(columns=['Prompt Style','Prompt','AI Reply','Token Used'])\n",
        "#DEFINES FUNCTION\n",
        "def multi_style(prompt,prompt_style,prompt_length):\n",
        " prompt_s={\"news\":\"summarize this text in a formal journalistic news tone\",\n",
        "               \"casual\":\"summarize this text in a friendly ,easygoing tone\",\n",
        "               \"tweet\": \"Summarize this text as a catchy tweet under 280 characters.\"}\n",
        " prompt_l={\"short\": \"Make it concise, 1–2 sentences.\",\n",
        "        \"medium\": \"Keep it around 4–5 sentences.\",\n",
        "        \"long\": \"Give a detailed summary in about 8–10 sentences.\"}\n",
        " if prompt_length==\"short\":\n",
        "  prompt_le=prompt_l[\"short\"]\n",
        " elif prompt_length==\"medium\":\n",
        "  prompt_le=prompt_l[\"medium\"]\n",
        " elif prompt_length==\"long\":\n",
        "  prompt_le=prompt_l[\"long\"]\n",
        "\n",
        " if prompt_style==\"news\":\n",
        "  prompt_st=prompt_s[\"news\"]\n",
        " elif prompt_style==\"casual\":\n",
        "  prompt_st=prompt_s[\"casual\"]\n",
        " elif prompt_style==\"tweet\":\n",
        "  prompt_st=prompt_s[\"tweet\"]\n",
        " data={\"model\":\"mistralai/mistral-small-3.2-24b-instruct\",\n",
        "      \"messages\":[{\"role\":\"system\",\"content\":\"you are a helpful summarizer assistant\"},\n",
        "                  {\"role\":\"user\",\"content\":f\"{prompt_st},{prompt_le}.\\n\\n {prompt}\"}],\"max_tokens\":80}\n",
        "\n",
        "\n",
        " global multi_prompt\n",
        " #OPENROUTER URL\n",
        " url=\"https://openrouter.ai/api/v1/chat/completions\"\n",
        " # MY SECRET KEY\n",
        " api_key=userdata.get('MY_API')\n",
        " #HEADERS\n",
        " headers={\n",
        "    \"Content-Type\":\"application/json\",\n",
        "    \"Authorization\":f\"Bearer {api_key}\"\n",
        " }\n",
        " #SEND REQUEST\n",
        " response=requests.post(url,headers=headers,json=data)\n",
        "\n",
        "\n",
        " result=response.json()\n",
        " reply=result['choices'][0][\"message\"][\"content\"]\n",
        " print(f\"\\n {prompt_style} ::: {reply}\")\n",
        " token_used=result['usage']['total_tokens']\n",
        " new_row={'Prompt Style':prompt_style,'Prompt':prompt,'AI Reply':reply,'Token Used':token_used}\n",
        " #CONTENTS COPIED IN DATAFRAME\n",
        " multi_prompt=pd.concat([multi_prompt,pd.DataFrame([new_row])],ignore_index=True)\n",
        " multi_prompt.to_csv('multi_prompt.csv',index=False)\n",
        "\n",
        " #RETURN FORMATTED RESULT FOR DISPLAY (FOR GRADIO)\n",
        " return f\"**{prompt_style.upper()} SUMMARY \\n\\n {reply} \\n\\n Token Used:{token_used}\"\n",
        "\n",
        "# FOR DOWNLOAD CSV\n",
        "def download_csv():\n",
        "  return \"multi_prompt.csv\"\n",
        "\n",
        "#Create layout with extra buttons and styles\n",
        "with gr.Blocks(theme=gr.themes.Citrus()) as app:\n",
        "  gr.Markdown(\"🖼## Multi Prompt Summarizer##🖼\")\n",
        "  gr.Markdown(\"Summarize any text in **NEWS** , **CASUAL** or **TWEET** tone- In short, medium or long format using the Mistral model via OpenRouter\")\n",
        "  #user input section\n",
        "  with gr.Row():\n",
        "    prompt= gr.Textbox(label=\"Enter your text\",lines=5,placeholder=\"Paste or type your paragraph here...\")\n",
        "    style=gr.Dropdown([\"news\",\"casual\",\"tweet\"],label=\"Select Tone\")\n",
        "    length=gr.Dropdown([\"short\",\"medium\",\"long\"],label=\"Select Length\")\n",
        " #Action + Output Section\n",
        "  submit=gr.Button(\"Summarize now\")\n",
        "  csv_btn=gr.Button(\"Download CSV\")\n",
        "  output=gr.Markdown(label=\"AI Reply\")\n",
        "  #Connecting buttons to functions\n",
        "  submit.click(fn=multi_style,inputs=[prompt,style,length],outputs=output)\n",
        "  csv_btn.click(fn=download_csv, outputs=gr.File())\n",
        "  #Footer section\n",
        "  gr.Markdown(\"-----\")\n",
        "  gr.Markdown(\"Made with 💖 by Madiha Atif | [GitHub Repo](https://github.com/mahambilalandahaan/Advanced_multisummarizer_miniweb.git)\")\n",
        "#Launch the app\n",
        "\n",
        "app.launch(share=True ,debug=True)"
      ]
    }
  ]
}